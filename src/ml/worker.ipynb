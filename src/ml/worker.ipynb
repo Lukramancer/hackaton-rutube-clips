{
 "cells": [
  {
   "cell_type": "code",
   "execution_count": 1,
   "id": "133df779-89db-45a5-bfae-f10a3abc83e4",
   "metadata": {},
   "outputs": [
    {
     "ename": "ModuleNotFoundError",
     "evalue": "No module named 'cv2'",
     "output_type": "error",
     "traceback": [
      "\u001b[0;31m---------------------------------------------------------------------------\u001b[0m",
      "\u001b[0;31mModuleNotFoundError\u001b[0m                       Traceback (most recent call last)",
      "Cell \u001b[0;32mIn[1], line 1\u001b[0m\n\u001b[0;32m----> 1\u001b[0m \u001b[38;5;28;01mimport\u001b[39;00m \u001b[38;5;21;01mpgl_usage\u001b[39;00m\n\u001b[1;32m      2\u001b[0m \u001b[38;5;28;01mimport\u001b[39;00m \u001b[38;5;21;01msaiga_description\u001b[39;00m\n\u001b[1;32m      3\u001b[0m \u001b[38;5;28;01mimport\u001b[39;00m \u001b[38;5;21;01msubtitles_generation\u001b[39;00m\n",
      "File \u001b[0;32m~/desktop/hackatons/27.09.2024/hackaton-27.09.2024/src/ml/pgl_usage.py:7\u001b[0m\n\u001b[1;32m      4\u001b[0m \u001b[38;5;28;01mimport\u001b[39;00m \u001b[38;5;21;01mtime\u001b[39;00m\n\u001b[1;32m      5\u001b[0m \u001b[38;5;28;01mfrom\u001b[39;00m \u001b[38;5;21;01mconcurrent\u001b[39;00m\u001b[38;5;21;01m.\u001b[39;00m\u001b[38;5;21;01mfutures\u001b[39;00m\u001b[38;5;21;01m.\u001b[39;00m\u001b[38;5;21;01mprocess\u001b[39;00m \u001b[38;5;28;01mimport\u001b[39;00m ProcessPoolExecutor\n\u001b[0;32m----> 7\u001b[0m \u001b[38;5;28;01mimport\u001b[39;00m \u001b[38;5;21;01mcv2\u001b[39;00m\n\u001b[1;32m      8\u001b[0m \u001b[38;5;28;01mfrom\u001b[39;00m \u001b[38;5;21;01mmodelscope\u001b[39;00m\u001b[38;5;21;01m.\u001b[39;00m\u001b[38;5;21;01mpipelines\u001b[39;00m \u001b[38;5;28;01mimport\u001b[39;00m pipeline\n\u001b[1;32m      9\u001b[0m \u001b[38;5;28;01mfrom\u001b[39;00m \u001b[38;5;21;01mmodelscope\u001b[39;00m\u001b[38;5;21;01m.\u001b[39;00m\u001b[38;5;21;01mutils\u001b[39;00m\u001b[38;5;21;01m.\u001b[39;00m\u001b[38;5;21;01mconstant\u001b[39;00m \u001b[38;5;28;01mimport\u001b[39;00m Tasks\n",
      "\u001b[0;31mModuleNotFoundError\u001b[0m: No module named 'cv2'"
     ]
    }
   ],
   "source": [
    "import pgl_usage\n",
    "import saiga_description\n",
    "import subtitles_generation"
   ]
  },
  {
   "cell_type": "code",
   "execution_count": null,
   "id": "3e70d193-1116-41ef-aa49-93ea5adbb315",
   "metadata": {},
   "outputs": [],
   "source": [
    "from os import getenv\n",
    "from pathlib import Path\n",
    "from tempfile import TemporaryDirectory\n",
    "from time import sleep\n",
    "from json import dumps\n",
    "from io import BytesIO\n",
    "\n",
    "from dotenv import load_dotenv\n",
    "\n",
    "from ..database import create_database_session, Upload, create_short, Short\n",
    "from ..s3 import FileStorage"
   ]
  },
  {
   "cell_type": "code",
   "execution_count": null,
   "id": "d535ee34-498b-4a70-b160-834fc7d40cfe",
   "metadata": {},
   "outputs": [],
   "source": [
    "load_dotenv()\n",
    "\n",
    "S3_ENDPOINT_URL = getenv(\"S3_ENDPOINT_URL\")\n",
    "S3_REGION = getenv(\"S3_REGION\")\n",
    "S3_ACCESS_KEY = getenv(\"S3_ACCESS_KEY\")\n",
    "S3_PRIVATE_ACCESS_KEY = getenv(\"S3_PRIVATE_ACCESS_KEY\")\n",
    "S3_BUCKET_NAME = getenv(\"S3_BUCKET_NAME\")\n",
    "\n",
    "DATABASE_HOST=getenv(\"DATABASE_HOST\")\n",
    "DATABASE_PORT=int(getenv(\"DATABASE_PORT\"))\n",
    "DATABASE_USER=getenv(\"DATABASE_USER\")\n",
    "DATABASE_PASSWORD=getenv(\"DATABASE_PASSWORD\")\n",
    "DATABASE_DBNAME=getenv(\"DATABASE_DBNAME\")\n",
    "DATABASE_DRIVER=getenv(\"DATABASE_DRIVER\")\n",
    "\n",
    "\n",
    "file_storge = FileStorage(S3_ENDPOINT_URL, S3_REGION, S3_ACCESS_KEY, S3_PRIVATE_ACCESS_KEY, S3_BUCKET_NAME)\n",
    "database_session = create_database_session(DATABASE_DRIVER, DATABASE_HOST, DATABASE_PORT, DATABASE_USER, DATABASE_PASSWORD, DATABASE_DBNAME)"
   ]
  },
  {
   "cell_type": "code",
   "execution_count": null,
   "id": "6ce81a3e-3ed2-472d-a31d-ca2b844c3622",
   "metadata": {},
   "outputs": [],
   "source": [
    "while True:\n",
    "    unprocessed_upload = database_session.query(Upload).where(Upload.upload_state == \"uploaded\").all()[0]\n",
    "    if unprocessed_upload is not None:\n",
    "        with TemporaryDirectory() as upload_processing_directory_path_str:\n",
    "            upload_processing_directory_path = Path(upload_processing_directory_path_str)\n",
    "            upload_processing_source_video_file_path = upload_processing_directory_path.joinpath(\"source\")\n",
    "\n",
    "            with open(upload_processing_source_video_file_path, \"wb\") as upload_processing_source_video_file:\n",
    "                upload_source_video = file_storge.download_file(unprocessed_upload.source_video_file_key)\n",
    "                upload_processing_source_video_file.write(upload_source_video.getbuffer())\n",
    "\n",
    "            saiga_outputs = []\n",
    "            paths_for_whisper = pgl_usage.main(str(upload_processing_source_video_file_path))\n",
    "\n",
    "            shorts_ids = list()\n",
    "            for path in paths_for_whisper:\n",
    "                with open(path) as short_video_file:\n",
    "                    short_video_file_key = file_storge.upload_file(short_video_file)\n",
    "                    short_id = create_short(database_session, unprocessed_upload.id, short_video_file_key, state=\"video\")\n",
    "                    shorts_ids.append(short_id)\n",
    "\n",
    "            subtitles_info = {}\n",
    "\n",
    "            for filepath, short_id in zip(paths_for_whisper, shorts_ids):\n",
    "                subtitles_info[filepath] = subtitles_generation.inference(filepath)\n",
    "\n",
    "                short_subtitles_file = BytesIO(bytes(dumps(subtitles_info[filepath]), encoding=\"utf-8\"))\n",
    "                short = database_session.get(Short, short_id)\n",
    "                short_subtitles_file_key = file_storge.upload_file(short_subtitles_file, \".json\")\n",
    "                short.subtitles_file_key = short_subtitles_file_key\n",
    "                database_session.commit()\n",
    "\n",
    "            for file_path in subtitles_info:\n",
    "                saiga_outputs.append(saiga_description.get_description(subtitles_info[file_path][\"text\"]))\n",
    "else:\n",
    "    print(\"No unprocessed uploads\")\n",
    "    sleep(15)"
   ]
  }
 ],
 "metadata": {
  "kernelspec": {
   "display_name": "Python 3 (ipykernel)",
   "language": "python",
   "name": "python3"
  },
  "language_info": {
   "codemirror_mode": {
    "name": "ipython",
    "version": 3
   },
   "file_extension": ".py",
   "mimetype": "text/x-python",
   "name": "python",
   "nbconvert_exporter": "python",
   "pygments_lexer": "ipython3",
   "version": "3.12.5"
  }
 },
 "nbformat": 4,
 "nbformat_minor": 5
}
